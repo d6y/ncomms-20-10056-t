{
 "cells": [
  {
   "cell_type": "markdown",
   "metadata": {},
   "source": [
    "## Imports"
   ]
  },
  {
   "cell_type": "code",
   "execution_count": 1,
   "metadata": {},
   "outputs": [],
   "source": [
    "from __future__ import division\n",
    "import pandas as pd\n",
    "import numpy as np\n",
    "import os\n",
    "import glob"
   ]
  },
  {
   "cell_type": "code",
   "execution_count": 2,
   "metadata": {},
   "outputs": [],
   "source": [
    "%matplotlib inline\n",
    "import matplotlib.pyplot as plt\n",
    "import seaborn as sns"
   ]
  },
  {
   "cell_type": "markdown",
   "metadata": {},
   "source": [
    "## Sample Info"
   ]
  },
  {
   "cell_type": "markdown",
   "metadata": {},
   "source": [
    "A set of spike-in samples consisting of HT29 genomic DNA spiked at various percentages into mixed DNA from several healthy plasma samples were processed using the PanSeer assay."
   ]
  },
  {
   "cell_type": "code",
   "execution_count": 3,
   "metadata": {},
   "outputs": [],
   "source": [
    "HT29_0percent = ['HT29_0percent_1', 'HT29_0percent_2', 'HT29_0percent_3', 'HT29_0percent_4', 'HT29_0percent_5', 'HT29_0percent_6']\n",
    "HT29_0p1percent = ['HT29_0p1percent_1', 'HT29_0p1percent_2', 'HT29_0p1percent_3', 'HT29_0p1percent_4', 'HT29_0p1percent_5', 'HT29_0p1percent_6']\n",
    "HT29_0p5percent = ['HT29_0p5percent_1', 'HT29_0p5percent_2', 'HT29_0p5percent_3', 'HT29_0p5percent_4', 'HT29_0p5percent_5', 'HT29_0p5percent_6']\n",
    "HT29_1percent = ['HT29_1percent_1', 'HT29_1percent_2', 'HT29_1percent_3', 'HT29_1percent_4', 'HT29_1percent_5', 'HT29_1percent_6']\n",
    "HT29_5percent = ['HT29_5percent_1', 'HT29_5percent_2', 'HT29_5percent_3', 'HT29_5percent_4', 'HT29_5percent_5', 'HT29_5percent_6']\n",
    "HT29_10percent = ['HT29_10percent_1', 'HT29_10percent_2', 'HT29_10percent_3', 'HT29_10percent_4', 'HT29_10percent_5', 'HT29_10percent_6']\n",
    "HT29_100percent = ['HT29_100percent_1', 'HT29_100percent_2', 'HT29_100percent_3', 'HT29_100percent_4', 'HT29_100percent_5']"
   ]
  },
  {
   "cell_type": "markdown",
   "metadata": {},
   "source": [
    "## Load Data"
   ]
  },
  {
   "cell_type": "markdown",
   "metadata": {},
   "source": [
    "Let's load a data matrix listing the methylation level across each CpG site for each sample."
   ]
  },
  {
   "cell_type": "code",
   "execution_count": 6,
   "metadata": {},
   "outputs": [],
   "source": [
    "amf_df = pd.read_csv('DataS2.tsv', sep=\"\\t\", header=0, index_col=0)"
   ]
  },
  {
   "cell_type": "markdown",
   "metadata": {},
   "source": [
    "## Cutoff Selection"
   ]
  },
  {
   "cell_type": "markdown",
   "metadata": {},
   "source": [
    "Let's use three healthy plasma samples to identify the background level of methylation for each CpG site."
   ]
  },
  {
   "cell_type": "code",
   "execution_count": 9,
   "metadata": {},
   "outputs": [],
   "source": [
    "training_samples = [HT29_0percent[1], HT29_0percent[3], HT29_0percent[5]]\n",
    "cutoffs = amf_df[training_samples].mean(axis=1) + amf_df[training_samples].std(axis=1)*3"
   ]
  },
  {
   "cell_type": "markdown",
   "metadata": {},
   "source": [
    "Let's also identify CpG sites that have high methylation in the tissue samples."
   ]
  },
  {
   "cell_type": "code",
   "execution_count": 11,
   "metadata": {},
   "outputs": [],
   "source": [
    "high_in_tissue = amf_df[amf_df[HT29_100percent].mean(axis=1) > 0.6].index"
   ]
  },
  {
   "cell_type": "markdown",
   "metadata": {},
   "source": [
    "## CpG Site Counting"
   ]
  },
  {
   "cell_type": "markdown",
   "metadata": {},
   "source": [
    "Let's count the number of CpG sites that are above the cutoff in each sample."
   ]
  },
  {
   "cell_type": "code",
   "execution_count": 29,
   "metadata": {},
   "outputs": [],
   "source": [
    "cpg_count_df = {}\n",
    "for x in [HT29_0percent[0], HT29_0percent[2], HT29_0percent[4]]:\n",
    "    cpg_count_df[x] = [0, sum(amf_df.loc[high_in_tissue, x] > cutoffs.loc[high_in_tissue])]\n",
    "for x in HT29_0p1percent:\n",
    "    cpg_count_df[x] = [0.1, sum(amf_df.loc[high_in_tissue, x] > cutoffs.loc[high_in_tissue])]\n",
    "for x in HT29_0p5percent:\n",
    "    cpg_count_df[x] = [0.5, sum(amf_df.loc[high_in_tissue, x] > cutoffs.loc[high_in_tissue])]\n",
    "for x in HT29_1percent:\n",
    "    cpg_count_df[x] = [1, sum(amf_df.loc[high_in_tissue, x] > cutoffs.loc[high_in_tissue])]\n",
    "for x in HT29_5percent:\n",
    "    cpg_count_df[x] = [5, sum(amf_df.loc[high_in_tissue, x] > cutoffs.loc[high_in_tissue])]\n",
    "for x in HT29_10percent:\n",
    "    cpg_count_df[x] = [10, sum(amf_df.loc[high_in_tissue, x] > cutoffs.loc[high_in_tissue])]\n",
    "    \n",
    "cpg_count_df = pd.DataFrame(cpg_count_df).T\n",
    "cpg_count_df.columns = ['Spike-In %', 'Number of CpG Sites']\n",
    "cpg_count_df = cpg_count_df.sort_values('Spike-In %')"
   ]
  },
  {
   "cell_type": "markdown",
   "metadata": {},
   "source": [
    "## Plot Spike-In Counts"
   ]
  },
  {
   "cell_type": "code",
   "execution_count": 31,
   "metadata": {},
   "outputs": [
    {
     "data": {
      "image/png": "[encoded data removed]",
      "text/plain": [
       "<Figure size 432x288 with 1 Axes>"
      ]
     },
     "metadata": {
      "needs_background": "light"
     },
     "output_type": "display_data"
    }
   ],
   "source": [
    "sns.swarmplot(x='Spike-In %', y='Number of CpG Sites', data=cpg_count_df)\n",
    "sns.despine()"
   ]
  },
  {
   "cell_type": "markdown",
   "metadata": {},
   "source": [
    "All spike-in samples could be detected."
   ]
  }
 ],
 "metadata": {
  "kernelspec": {
   "display_name": "Python 3",
   "language": "python",
   "name": "python3"
  },
  "language_info": {
   "codemirror_mode": {
    "name": "ipython",
    "version": 3
   },
   "file_extension": ".py",
   "mimetype": "text/x-python",
   "name": "python",
   "nbconvert_exporter": "python",
   "pygments_lexer": "ipython3",
   "version": "3.8.5"
  }
 },
 "nbformat": 4,
 "nbformat_minor": 2
}
